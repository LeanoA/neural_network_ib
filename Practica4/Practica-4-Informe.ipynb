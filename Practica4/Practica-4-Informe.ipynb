{
 "cells": [
  {
   "cell_type": "markdown",
   "metadata": {},
   "source": [
    "# Aprendizaje supervisado en redes neuronales multicapa\n",
    "<!-- Autor -->\n",
    "- **Autor:** Alexander Leano\n",
    "- **Fecha:** 13 de Noviembre del 2024\n",
    "\n",
    "## Introducción\n",
    "En este trabajo se busca realizar un modelo de aprendizaje supervisado utilizando redes neuronales multicapas para aprender la función XOR, problema de paridad (generalización del XOR) y el mapeo logistico.\n"
   ]
  },
  {
   "cell_type": "markdown",
   "metadata": {},
   "source": [
    "## 1. Función XOR\n",
    "\n",
    "La regla XOR tiene dos entradas (+1 o -1) y la salida es -1 si ambas son diferentes y +1 si ambas son iguales.  Se busca utilizar el algoritmo de retropropagacion de errores para aprender el XOR en las siguientes arquitecturas.\n",
    "\n"
   ]
  },
  {
   "cell_type": "markdown",
   "metadata": {},
   "source": [
    "<!-- Image centered with reference and figure #-->\n",
    "<center><img src=\"Ejercicio1-Arquitectura.png\" width=\"600\" title=\"Arquitectura 1 y 2\" alt=\"Arquitectura 1\" /></center>\n",
    "<p style=\"text-align: center\">\n",
    "    <b>Figure 1: Dos arquitecturas posibles, izquierda Arquitectura o Red 1 derecha Arquitectura o Red 2.</b>\n",
    "</p>"
   ]
  },
  {
   "cell_type": "markdown",
   "metadata": {},
   "source": [
    "En ambos casos se incluyen las unidades de entrada adicional para simular los umbrales. Se utiliza $\\text{tanh}(x)$ como función de transferencia. Se repite el proceso para 10 condiciones inciales de las conexiones.\n",
    "\n",
    "Se comparar el tiempo medio de convergencia de ambas arquitecturas.\n",
    "\n",
    "Los resultados obtenidos se representan en la *Figura 2* como el error cuadrático medio en función del número de iteraciones para ambas arquitecturas y 10 condiciones iniciales de las conexiones. Ademas se muestra el tiempo medio de convergencia para ambas arquitecturas."
   ]
  },
  {
   "cell_type": "markdown",
   "metadata": {},
   "source": [
    "<!-- Image centered with reference and figure #-->\n",
    "<center><img src=\"Ejercicio1-PartB-error.png\" width=\"700\" title=\"Arquitectura 1 y 2\" alt=\"Arquitectura 1\" /></center>\n",
    "<p style=\"text-align: center\">\n",
    "    <b>Figura 2: Error cuadrático medio en función de numero de iteración para arquitectura 1, 2 y una comparación entre los promedios promedios.</b>\n",
    "</p>"
   ]
  },
  {
   "cell_type": "markdown",
   "metadata": {},
   "source": [
    "De este grafico se puede observar que la arquitectura 2 converge más rapido que la arquitectura 1 para los 10 casos iniciales de las conexiones analizados. Se puede observar tambien que la arquitectura 1 tiene minimos locales que tardan en salir de ellos. Se puede obervar que el la arquitectura 1 aun mantiene un error cuadratico medio mayor que la arquitectura 2 despues de 2000 iteraciones producto de un minimo local que aun no convergio.\n",
    "\n",
    "Los tiempos de convergencia medios parecen ser similares, sin embargo, la arquitectura 2 muestra un mejor tiempo de convergencia para algunos casos lo que se refleja en el promedio."
   ]
  },
  {
   "cell_type": "markdown",
   "metadata": {},
   "source": [
    "## 2. Función de paridad"
   ]
  },
  {
   "cell_type": "markdown",
   "metadata": {},
   "source": [
    "El problema de paridad es una generalización del XOR para N entradas. La salida es `+1` si el producto de las `N` entradas es `+1` y `-1` si el producto de las entradas es `-1`. Se busca utilizar retropropagación para aprender el problema en la siguiente arquitectura que se muestra en la **Figura 3**. "
   ]
  },
  {
   "cell_type": "markdown",
   "metadata": {},
   "source": [
    "<!-- Image centered with reference and figure #-->\n",
    "<center><img src=\"Ejercicio2-Arquitectura.png\" width=\"400\" title=\"Arquitectura XOR generalizado\" alt=\"Arquitectura XOR generalizado\" /></center>\n",
    "<p style=\"text-align: center\">\n",
    "    <b>Figure 3:</b> Arquitecturas XOR generalizado. Se resuelve para un número de entradas N=5 y un numero de neuronas ocultas de N'= 1, 3, 5, 7, 9, 11.\n",
    "</p>"
   ]
  },
  {
   "cell_type": "markdown",
   "metadata": {},
   "source": [
    "En este caso se buscar aprender el problema para un numero de entradas `N` fijo de 5 y un numero de neuronas `N'` en la capa oculta de 1, 3, 5, 7, 9, 11 respectivamente. De esta manera se busca analizar que sucede cuando `N'` es menor, igual o mayor a `N`. \n",
    "\n",
    "Para cada caso con diferente numero de neuronas en la capa oculta se realizó un promedio del error entre 10 procesos de entrenamiento utilizando condiciones iniciales diferentes. Los resultados obtenidos se muestran en la **Figura 4**."
   ]
  },
  {
   "cell_type": "markdown",
   "metadata": {},
   "source": [
    "<!-- Image centered with reference and figure #-->\n",
    "<center><img src=\"Ejercicio2-PartB.png\" width=\"700\" title=\"Arquitectura XOR generalizado\" alt=\"Arquitectura XOR generalizado\" /></center>\n",
    "<p style=\"text-align: center\">\n",
    "    <b>Figure 4:</b> Error cuadrático medio en función de numero de iteración para arquitectura XOR generalizado. Se resuelve para un número de entradas N=5 y un numero de neuronas ocultas de N'= 1, 3, 5, 7, 9, 11.\n",
    "</p>"
   ]
  },
  {
   "cell_type": "markdown",
   "metadata": {},
   "source": [
    "Se puede observar que cuando el numero de neuronas en la capa oculta es igual al numero de entradas la red aprende la tarea de forma satisfactoria. Se puede ver que para los casos donde el numero de neuronas en la capa oculta es mayor al numero de entradas la red aprende la tarea pero toma mas iteraciones. Habría esperado que para un numero menor en la capa oculta no se pudiera aprender la tarea ya que podrían no alcanzar los grados de libertad para ajustar la curva de separación, sin embargo, se puede observar que el error cuadratico medio converge a cero muy rápido."
   ]
  },
  {
   "cell_type": "markdown",
   "metadata": {},
   "source": [
    "## 3. Mapeo logístico\n",
    "\n",
    "En esta sección se busca aprender utilizando retropropagación el mapeo logístico $x(t + 1) = 4x(t)(1 − x(t))$ en la arquitectura que se muestra en la **Figura 5**. \n",
    "\n",
    "Para ello se tiene en cuenta las siguientes consideraciones:\n",
    "- La función de activación de las neuronas en la capa oculta es $g(x) = 1/(1 + exp(−x))$.\n",
    "- Las neuronas incluyen umbrales. \n",
    "- La función de activación de la neurona de salida es lineal.\n",
    "- Se busca generar una base de datos $x(t), x(t = 1)$ iterando el mapeo y presentar 5, 10 y 100 ejemplos.\n",
    "- Se toma un 80% de los ejemplos presentados y se testea con el 20% de los ejemplos no presentados.\n",
    "\n",
    "Como objetivo, se busca comparar el error de entrenamiento con el error de generalización.\n"
   ]
  },
  {
   "cell_type": "markdown",
   "metadata": {},
   "source": [
    "<!-- Image centered with reference and figure #-->\n",
    "<center><img src=\"Ejercicio3-Arquitectura.png\" width=\"200\" title=\"Arquitectura XOR generalizado\" alt=\"Arquitectura XOR generalizado\" /></center>\n",
    "<p style=\"text-align: center\">\n",
    "    <b>Figure 5:</b> Arquitectura propuesta para aprender el mapeo logistico mediante retropropagación.\n",
    "</p>"
   ]
  },
  {
   "cell_type": "markdown",
   "metadata": {},
   "source": []
  },
  {
   "cell_type": "markdown",
   "metadata": {},
   "source": [
    "<!-- Image centered with reference and figure #-->\n",
    "<center><img src=\"Ejercicio3-model.png\" width=\"700\" title=\"Arquitectura XOR generalizado\" alt=\"Arquitectura XOR generalizado\" /></center>\n",
    "<p style=\"text-align: center\">\n",
    "    <b>Figure 4:</b> Arquitectura de la red propuesta utilizando TF.\n",
    "</p>\n"
   ]
  },
  {
   "cell_type": "markdown",
   "metadata": {},
   "source": []
  },
  {
   "cell_type": "markdown",
   "metadata": {},
   "source": [
    "<!-- Image centered with reference and figure #-->\n",
    "<center><img src=\"Ejercicio3-error.png\" width=\"700\" title=\"Logistic Regresion MSE \" alt=\"Logistic Regresion MSE\" /></center>\n",
    "<p style=\"text-align: center\">\n",
    "    <b>Figure 4:</b> Error cuadrático medio en función del numero de iteraciones para 5, 10 y 100 ejemplos utilizando el 80% para entrenamiento y el 20% para testeo.\n",
    "</p>"
   ]
  },
  {
   "cell_type": "code",
   "execution_count": null,
   "metadata": {},
   "outputs": [],
   "source": []
  },
  {
   "cell_type": "markdown",
   "metadata": {},
   "source": [
    "<!-- Image centered with reference and figure #-->\n",
    "<center><img src=\"Ejercicio3.png\" width=\"700\" title=\"Prediccion de la regresion logistica\" alt=\"Prediccion de la regresion logistica\" /></center>\n",
    "<p style=\"text-align: center\">\n",
    "    <b>Figure 4:</b> Prediccion de la regresión logistica .\n",
    "</p>"
   ]
  },
  {
   "cell_type": "markdown",
   "metadata": {},
   "source": []
  }
 ],
 "metadata": {
  "kernelspec": {
   "display_name": "Python 3 (ipykernel)",
   "language": "python",
   "name": "python3"
  },
  "language_info": {
   "codemirror_mode": {
    "name": "ipython",
    "version": 3
   },
   "file_extension": ".py",
   "mimetype": "text/x-python",
   "name": "python",
   "nbconvert_exporter": "python",
   "pygments_lexer": "ipython3",
   "version": "3.12.7"
  }
 },
 "nbformat": 4,
 "nbformat_minor": 4
}
