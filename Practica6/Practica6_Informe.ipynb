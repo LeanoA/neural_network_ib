{
 "cells": [
  {
   "cell_type": "markdown",
   "metadata": {},
   "source": [
    "# Redes Neuronales - Memorias Asociativas\n",
    "\n",
    "Autor: Alexander Leaño\n",
    "\n",
    "Fecha: 2 de Diciembre de 2024\n",
    "\n",
    "## Introducción\n",
    "\n",
    "El siguiente trabajo tiene como objetivo estudiar la capacidad de los modelos de redes neuronales para memoria asociativa. En particular, se estudiará el modelo de Hopfield sin ruido y con ruido."
   ]
  },
  {
   "cell_type": "markdown",
   "metadata": {},
   "source": [
    "## Ejercicio 1: Modelo de Hopfield sin ruido\n",
    "\n",
    "En este ejercicio se busca estimar la capacidad del modelo de Hopfield sin ruido. Para ello, se siguieron los siguientes pasos:\n",
    "\n",
    "1. **Creación de los patrones $ \\xi^\\mu_i $:**  \n",
    "   - Se definieron $ i = 1, \\ldots, N $ y $ \\mu = 1, \\ldots, p $. Donde $N$ el el número de neuronas y $p$ el numero de patrones de entrada.\n",
    "  \n",
    "   - Cada valor $ \\xi^\\mu_i $ se generó como $ \\pm 1 $ con igual probabilidad.\n",
    "\n",
    "2. **Evaluación de la matriz de conexiones:**  \n",
    "   - Se calculó $ J_{ij} = \\frac{1}{N} \\sum_{\\mu=1}^{p} \\xi^\\mu_i \\xi^\\mu_j $.  \n",
    "  \n",
    "   - Se aseguró que $ J_{ii} = 0 $ para evitar auto-conexiones.\n",
    "\n",
    "3. **Iteración de la dinámica determinista:**  \n",
    "   - Se tomó uno de los patrones $ \\xi_i^\\mu $ como condición inicial.  \n",
    "  \n",
    "   - Se iteró la dinámica determinista del modelo hasta converger a un punto fijo $ s^\\mu_i $.\n",
    "\n",
    "4. **Cálculo del overlap:**  \n",
    "   - Se evaluó el overlap de este estado de punto fijo con el el patrón original utilizando:  \n",
    "     $$\n",
    "     m^\\mu = \\frac{1}{N} \\sum_{i=1}^{N} s^\\mu_i \\xi^\\mu_i\n",
    "     $$\n",
    "\n",
    "5. **Cálculo de la distribución de overlaps:**  \n",
    "   - Se repitieron los pasos anteriores para todos los patrones $ \\xi_i^\\mu $.  \n",
    "  \n",
    "   - Se calculó la distribución de los overlaps $ m^\\mu $.\n",
    "\n",
    "6. **Exploración de parámetros:**  \n",
    "   - Se realizaron todos los pasos anteriores para los valores $ N = 500, 1000, 2000, 4000 $. \n",
    "  \n",
    "   - Para cada valor de $ N $, se consideraron las proporciones $ \\alpha = p/N $: $ \\alpha = 0.12, 0.14, 0.16, 0.18 $.\n"
   ]
  },
  {
   "cell_type": "markdown",
   "metadata": {},
   "source": [
    "### Resultados\n",
    "En la Figura 1 se puede observar la distribución del overlap para distintas cantidades de neuronas y diferentes valores de proporcionalidad $\\alpha$ correspondiente al cociente entre cantidad de patrones de entrada ($p$) y cantidades de neuronas ($N$)"
   ]
  },
  {
   "cell_type": "markdown",
   "metadata": {},
   "source": [
    "<center><img src=\"Ejercicio1-overlaps.png\" width=\"600\" title=\"Distribución de Overlaps para diferentes N y α\" alt=\"Distribución de Overlaps para diferentes N y α\" /></center>\n",
    "\n",
    "<p style=\"text-align: center\">\n",
    "    <b>\n",
    "    Figure 1:</b> Distribución de Overlaps para diferentes N y α. El cálculo de overlap se realiza entre un patrón de entreda y un punto fijo de la red.\n",
    "</p>"
   ]
  },
  {
   "cell_type": "markdown",
   "metadata": {},
   "source": [
    "De la figura podemos observar claramente que para $\\alpha=0.16$ y mayor valor, el punto fijo no llega a converger al patrón mostrado. Se puede notar que al no converger al patrón el overlap no es 0 ya este es un estado metaestable. Este efecto se aprecia aun mas al aumentar el número de Nuronas $N$. Según la teoría, para un $N$ lo suficientemente grande la capacidad es de $0.138$. En este trabajo se estima que la capacidad se encuentra entre $0.14$ y $0.16$"
   ]
  },
  {
   "cell_type": "markdown",
   "metadata": {},
   "source": [
    "## Ejercicio 2: Simulación de una red de Hopfield con ruido\n",
    "\n",
    "En este caso se busco estudiar la dinámica de una red de Hopfield con ruido usando la regla:  \n",
    "\n",
    "$$\n",
    "P(s_i(t + 1) = \\pm 1) = \\frac{\\exp(\\pm \\beta h_i(t))}{\\exp(\\beta h_i(t)) + \\exp(-\\beta h_i(t))}\n",
    "$$\n",
    "\n",
    "donde:  \n",
    "$$\n",
    "h_i(t) = \\sum_{j=1}^N w_{ij} s_j(t),\n",
    "$$\n",
    "\n",
    "$$\n",
    "\\beta = \\frac{1}{T}\n",
    "$$\n",
    "\n",
    "\n",
    "Es decir, las neuronas dejaron de ser determinísticas y se volvieron probabilísticas. \n",
    "\n",
    "Se tomó como condición inicial cada uno de los patrones ( $x_i^\\mu$ ). Se recorrio toda la red aplicando esta regla. Después de visitar cada sitio 10 veces, se calculo el *overlap*. Se tomó:\n",
    "- $N = 4000$ para el numero de neuronas en la red\n",
    "- $p = 40$ para el numero de patrones\n",
    "\n",
    "y se grafico el *overlap* medio y la desviación estándar en función de la temperatura.\n",
    "\n",
    "### Resultados\n",
    "\n",
    "El gráfico obtenido de la simulación se muestran en la Figura 2.\n"
   ]
  },
  {
   "cell_type": "markdown",
   "metadata": {},
   "source": [
    "<center><img src=\"average_overlap_vs_temperature.png\" width=\"600\" title=\"Overlap promedio en función de la temperatura\" alt=\"Overlap promedio en función de la temperatura\" /></center>\n",
    "\n",
    "<p style=\"text-align: center\">\n",
    "    <b>\n",
    "    Figure 2:</b> Overlap promedio en función de la temperatura y desviación estándar para una red de Hopfield con ruido. Numeros de neuronas N = 4000 y numero de patrones p = 40.\n",
    "</p>"
   ]
  },
  {
   "cell_type": "markdown",
   "metadata": {},
   "source": [
    "El gráfico muestra que el *overlap* promedio disminuye con la temperatura y que las desviación estandar aumenta. Esto era algo esperado ya que a mayor temperatura, mayor es la probabilidad de que una neurona cambie de estado. A baja temperatura la red se comporta como una red de Hopfield determinística mientras que cuando la temperatura crece la red tiende a tener un comportamiento aleatorio debido al ruido."
   ]
  }
 ],
 "metadata": {
  "language_info": {
   "name": "python"
  }
 },
 "nbformat": 4,
 "nbformat_minor": 2
}
