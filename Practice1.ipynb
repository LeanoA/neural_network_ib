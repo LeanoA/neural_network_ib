{
 "cells": [
  {
   "cell_type": "markdown",
   "id": "9f85a76f-54c8-466e-9778-f43458684a8d",
   "metadata": {},
   "source": [
    "## Exercice 1"
   ]
  },
  {
   "cell_type": "code",
   "execution_count": 15,
   "id": "d3b86b77-9bf0-4c97-9ced-037bb5ddc9e7",
   "metadata": {},
   "outputs": [
    {
     "name": "stdout",
     "output_type": "stream",
     "text": [
      "Equilibrium potential for Potassium: -0.07747638019659796 V\n",
      "Sodium [V]:  0.05491818256374861\n",
      "Clhloride: -0.05392775673078852\n"
     ]
    }
   ],
   "source": [
    "import numpy as np\n",
    "\n",
    "# Constants\n",
    "k_B = 1.38e-23  # Boltzmann constant in J/K\n",
    "T = 293.15  # Temperature in Kelvin (20°C)\n",
    "e = 1.602e-19  # Elementary charge in Coulombs\n",
    "\n",
    "# Ion concentrations in mM (typical physiological values)\n",
    "K_o = 20  # Extracellular potassium concentration\n",
    "K_i = 430  # Intracellular potassium concentration\n",
    "\n",
    "Na_o = 440  # Extracellular sodium concentration\n",
    "Na_i = 50  # Intracellular sodium concentration\n",
    "\n",
    "Cl_o = 550  # Extracellular chloride concentration\n",
    "Cl_i = 65  # Intracellular chloride concentration\n",
    "\n",
    "# Valences\n",
    "z_K = 1  # Valence for K+\n",
    "z_Na = 1  # Valence for Na+\n",
    "z_Cl = -1  # Valence for Cl-\n",
    "\n",
    "# Nernst equation calculation for each ion\n",
    "E_K = (k_B * T / (z_K * e)) * np.log(K_o / K_i)\n",
    "E_Na = (k_B * T / (z_Na * e)) * np.log(Na_o / Na_i)\n",
    "E_Cl = (k_B * T / (z_Cl * e)) * np.log(Cl_o / Cl_i)\n",
    "\n",
    "print(f\"Equilibrium potential for Potassium: {E_K} V\")\n",
    "print( \"Sodium [V]: \", E_Na)\n",
    "print(\"Clhloride [V]:\",E_Cl )"
   ]
  },
  {
   "cell_type": "code",
   "execution_count": 3,
   "id": "48bad9de-073c-4f79-837c-8de686caec0a",
   "metadata": {},
   "outputs": [
    {
     "data": {
      "text/plain": [
       "8.614232209737829e-05"
      ]
     },
     "execution_count": 3,
     "metadata": {},
     "output_type": "execute_result"
    }
   ],
   "source": [
    "# Boltzmann constant in eV/K\n",
    "k_B/e"
   ]
  },
  {
   "cell_type": "markdown",
   "id": "58cf0298-dc64-46f7-bba4-1654bc11961e",
   "metadata": {},
   "source": [
    "The equilibrium potentials calculated for each ion at 20°C (293.15 K) are:\n",
    "\n",
    "- **Potassium (𝐾⁺):**\n",
    "\n",
    "  $ E_{K^+} \\approx -77.47 \\, \\text{mV} $\n",
    "\n",
    "- **Sodium (𝑁𝑎⁺):**\n",
    "\n",
    "  $ E_{Na^+} \\approx 54.91 \\, \\text{mV} $\n",
    "\n",
    "- **Chloride (𝐶𝑙⁻):**\n",
    "\n",
    "  $ E_{Cl^-} \\approx -53.92 \\, \\text{mV} $\n",
    "\n",
    "These values represent the membrane potential at which each ion is in equilibrium, meaning there is no net movement of the ion across the membrane due to the balance between the electrical and chemical gradients.\n"
   ]
  },
  {
   "cell_type": "markdown",
   "id": "da51870c-96b1-4501-9822-e116fda35b5f",
   "metadata": {},
   "source": [
    "## Exercice 2\n",
    "\n",
    "Considering a spherical neuron of radius 15 microns and 1 µF/cm² capacitance, how many Na⁺ ions have to enter inside the neuron to change the membrane potential by 100 mV? Compare the change in concentration with the previous problem. Use Faraday's constant $F = 10^5 \\, \\text{coulombs/mol}$.\n",
    "\n",
    "**Given:**\n",
    "\n",
    "- Radius of neuron: $r = 15 \\, \\mu m = 15 \\times 10^{-4} \\, \\text{cm}$\n",
    "- Capacitance per unit area: $C_m = 1 \\, \\mu F/cm^2 = 1 \\times 10^{-6} \\, F/cm^2$\n",
    "- Change in membrane potential: $\\Delta V = 100 \\, mV = 0.1 \\, V$\n",
    "- Faraday's constant: $F = 10^5 \\, \\text{coulombs/mol}$\n",
    "\n",
    "**Steps:**\n",
    "\n",
    "1. **Calculate the surface area of the neuron**  \n",
    "   The surface area $A$ of a sphere is given by:\n",
    "   $$\n",
    "   A = 4 \\pi r^2\n",
    "   $$\n",
    "\n",
    "2. **Calculate the total capacitance of the neuron**  \n",
    "   The total capacitance $C$ is:\n",
    "   $$\n",
    "   C = C_m \\times A\n",
    "   $$\n",
    "\n",
    "3. **Calculate the total charge required**  \n",
    "   The total charge $Q$ needed to change the potential by $\\Delta V$ is:\n",
    "   $$\n",
    "   Q = C \\times \\Delta V\n",
    "   $$\n",
    "\n",
    "4. **Calculate the number of moles of Na⁺ ions required**  \n",
    "   The number of moles $n$ of $Na^+$ ions is given by:\n",
    "   $$\n",
    "   n = \\frac{Q}{F}\n",
    "   $$\n",
    "\n",
    "5. **Convert moles to number of ions**  \n",
    "   The number of Na⁺ ions required is:\n",
    "   $$\n",
    "   N_{\\text{ions}} = n \\times N_A\n",
    "   $$\n",
    "   where $N_A$ is Avogadro's number.\n",
    "\n",
    "6. **Compare the concentration change**\n",
    "\n",
    "   Compare the concentration change with the original problem to see how significant this number of ions is in relation to the overall sodium concentration inside the neuron."
   ]
  },
  {
   "cell_type": "code",
   "execution_count": 24,
   "id": "245c9978-3da7-4978-9b61-3e6386fbb29e",
   "metadata": {},
   "outputs": [
    {
     "data": {
      "text/plain": [
       "(17649396.930279735, 2.931793510013245e-14)"
      ]
     },
     "execution_count": 24,
     "metadata": {},
     "output_type": "execute_result"
    }
   ],
   "source": [
    "import numpy as np\n",
    "\n",
    "# Given values\n",
    "C_m = 1e-6  # Capacitance in F/cm^2\n",
    "delta_V = 0.1  # Potential change in Volts\n",
    "radius = 15e-4  # Radius in cm\n",
    "F = 1e5  # Faraday constant in C/mol\n",
    "e = 1.602e-19  # Elementary charge in Coulombs\n",
    "\n",
    "# Step 1: Calculate the surface area of the spherical neuron\n",
    "A = 4 * np.pi * radius**2  # Surface area in cm^2\n",
    "\n",
    "# Step 2: Calculate the total charge required for the potential change\n",
    "Q = C_m * A * delta_V  # Total charge in Coulombs\n",
    "\n",
    "# Step 3: Calculate the number of sodium ions needed\n",
    "n_ions = Q / e  # Number of sodium ions\n",
    "\n",
    "# Step 4: Calculate the change in concentration\n",
    "# Volume of the neuron\n",
    "volume = (4/3) * np.pi * radius**3  # Volume in cm^3\n",
    "\n",
    "# Convert volume to liters (1 cm^3 = 1e-3 liters)\n",
    "volume_liters = volume * 1e-3\n",
    "\n",
    "# Original concentration from the previous problem (in mM)\n",
    "original_Na_i = 50  # in mM\n",
    "Na_concentration_change = (n_ions / (6.02e23)) * 1e3  # in mM\n",
    "\n",
    "n_ions, Na_concentration_change\n"
   ]
  }
 ],
 "metadata": {
  "kernelspec": {
   "display_name": "Python 3 (ipykernel)",
   "language": "python",
   "name": "python3"
  },
  "language_info": {
   "codemirror_mode": {
    "name": "ipython",
    "version": 3
   },
   "file_extension": ".py",
   "mimetype": "text/x-python",
   "name": "python",
   "nbconvert_exporter": "python",
   "pygments_lexer": "ipython3",
   "version": "3.12.5"
  }
 },
 "nbformat": 4,
 "nbformat_minor": 5
}
